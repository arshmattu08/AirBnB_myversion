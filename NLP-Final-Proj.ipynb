{
 "cells": [
  {
   "cell_type": "code",
   "execution_count": 15,
   "metadata": {},
   "outputs": [],
   "source": [
    "import pandas as pd\n",
    "from vaderSentiment.vaderSentiment import SentimentIntensityAnalyzer\n",
    "import openpyxl\n",
    "import ast\n",
    "file_path = '/Users/nasase/Documents/GitHub/ADS_Projects/Airbnb Dataset_FINAL.xlsx'\n",
    "\n",
    "data = pd.read_excel(file_path)"
   ]
  },
  {
   "cell_type": "code",
   "execution_count": 23,
   "metadata": {},
   "outputs": [
    {
     "name": "stdout",
     "output_type": "stream",
     "text": [
      "                                  NEIGHBOUR OVERVIEW  \\\n",
      "0  My neighborhood is ideally located if you want...   \n",
      "1  Quiet neighborhood with lots of trees and good...   \n",
      "2  The neighborhood is fun and funky (but quiet)!...   \n",
      "3                                                nan   \n",
      "4  East Cesar Chavez is a gentrifying urban area ...   \n",
      "\n",
      "   Neighbour_Description_Sentiment  \\\n",
      "0                           0.5574   \n",
      "1                           0.4404   \n",
      "2                           0.7609   \n",
      "3                           0.0000   \n",
      "4                           0.0000   \n",
      "\n",
      "                                           Amenities  Amenities_Sentiment  \\\n",
      "0  [Hot water, Extra pillows and blankets, Backya...               0.6124   \n",
      "1  [Hot water, Outdoor dining area, Ceiling fan, ...               0.7351   \n",
      "2  [Free dryer – In building, Hot water, Outdoor ...               0.9114   \n",
      "3                                                 []               0.0000   \n",
      "4  [Hot water, Ceiling fan, Extra pillows and bla...               0.9153   \n",
      "\n",
      "   Review Scores Rating  \n",
      "0                  4.85  \n",
      "1                  4.90  \n",
      "2                  4.97  \n",
      "3                  4.56  \n",
      "4                  5.00  \n"
     ]
    }
   ],
   "source": [
    "# Initialize VADER sentiment analyzer\n",
    "analyzer = SentimentIntensityAnalyzer()\n",
    "\n",
    "#Process Neighborhood Overviews and Ensure that all data is in string format\n",
    "data['NEIGHBOUR OVERVIEW'] = data['NEIGHBOUR OVERVIEW'].astype(str)\n",
    "data['Neighbour_Description_Sentiment'] = data['NEIGHBOUR OVERVIEW'].apply(lambda x: analyzer.polarity_scores(x)['compound'])\n",
    "\n",
    "#Process Amenities and Ensure that all data is in string/list format\n",
    "def process_amenities(amenities):\n",
    "    if isinstance(amenities, str):\n",
    "        try:\n",
    "            return ast.literal_eval(amenities)\n",
    "        except (ValueError, SyntaxError):\n",
    "            return []\n",
    "    elif isinstance(amenities, list):\n",
    "        return amenities\n",
    "    else:\n",
    "        return []  \n",
    "\n",
    "data['Amenities'] = data['Amenities'].apply(process_amenities)\n",
    "\n",
    "# Ensure all entries in 'Amenities' are now lists\n",
    "data['Amenities_Sentiment'] = data['Amenities'].apply(\n",
    "    lambda amenities: analyzer.polarity_scores(\" \".join(amenities))['compound'] if isinstance(amenities, list) else 0\n",
    ")\n",
    "\n",
    "print(data[['NEIGHBOUR OVERVIEW', 'Neighbour_Description_Sentiment', 'Amenities', 'Amenities_Sentiment', 'Review Scores Rating']].head())\n"
   ]
  },
  {
   "cell_type": "code",
   "execution_count": 21,
   "metadata": {},
   "outputs": [
    {
     "name": "stdout",
     "output_type": "stream",
     "text": [
      "Correlation (Neighbour Overview Sentiment - Review Scores Rating): 0.08171679983415481\n",
      "Correlation (Amenities Sentiment - Review Scores Rating): 0.10042428798677078\n"
     ]
    }
   ],
   "source": [
    "#Checking Correlation between good sentiment and High Review scores\n",
    "correlation_neighbour = data['Neighbour_Description_Sentiment'].corr(data['Review Scores Rating'])\n",
    "correlation_amenities = data['Amenities_Sentiment'].corr(data['Review Scores Rating'])\n",
    "print(f\"Correlation (Neighbour Overview Sentiment - Review Scores Rating): {correlation_neighbour}\")\n",
    "print(f\"Correlation (Amenities Sentiment - Review Scores Rating): {correlation_amenities}\")"
   ]
  }
 ],
 "metadata": {
  "kernelspec": {
   "display_name": "nlp",
   "language": "python",
   "name": "python3"
  },
  "language_info": {
   "codemirror_mode": {
    "name": "ipython",
    "version": 3
   },
   "file_extension": ".py",
   "mimetype": "text/x-python",
   "name": "python",
   "nbconvert_exporter": "python",
   "pygments_lexer": "ipython3",
   "version": "3.11.10"
  }
 },
 "nbformat": 4,
 "nbformat_minor": 2
}
